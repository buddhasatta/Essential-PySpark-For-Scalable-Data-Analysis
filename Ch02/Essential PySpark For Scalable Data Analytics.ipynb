{
 "cells": [
  {
   "cell_type": "code",
   "execution_count": 0,
   "metadata": {
    "application/vnd.databricks.v1+cell": {
     "cellMetadata": {
      "byteLimit": 2048000,
      "rowLimit": 10000
     },
     "inputWidgets": {},
     "nuid": "a79cc718-7147-4c77-a386-9f23394cd06e",
     "showTitle": false,
     "tableResultSettingsMap": {},
     "title": ""
    }
   },
   "outputs": [],
   "source": [
    "from pyspark.sql import SparkSession \n",
    "spark=SparkSession.builder.appName(\"Buddha\").getOrCreate()\n",
    "rdd1=spark.sparkContext.textFile(\"dbfs:/FileStore/1\")\n",
    "words=rdd1.flatMap(lambda x : x.split(\" \")) # This steps breaks all the lines and creates word from it.\n",
    "word_Map=words.map(lambda x : (x,1)) # This steps adds number to every words and creates a tuple.\n"
   ]
  },
  {
   "cell_type": "code",
   "execution_count": 0,
   "metadata": {
    "application/vnd.databricks.v1+cell": {
     "cellMetadata": {
      "byteLimit": 2048000,
      "rowLimit": 10000
     },
     "inputWidgets": {},
     "nuid": "54ec4c65-5008-496d-b9e2-227a0e68785d",
     "showTitle": false,
     "tableResultSettingsMap": {},
     "title": ""
    }
   },
   "outputs": [
    {
     "output_type": "execute_result",
     "data": {
      "text/plain": [
       "[('Hydrogen', 2),\n",
       " ('is', 5),\n",
       " ('symbol', 1),\n",
       " ('1.', 1),\n",
       " ('It', 1),\n",
       " ('constituting', 1),\n",
       " ('75%', 1),\n",
       " ('of', 7),\n",
       " ('The', 2),\n",
       " ('hydrogen', 6)]"
      ]
     },
     "execution_count": 3,
     "metadata": {},
     "output_type": "execute_result"
    }
   ],
   "source": [
    "\n",
    "rdd1=spark.sparkContext.textFile(\"dbfs:/FileStore/1\")\n",
    "words=rdd1.flatMap(lambda x : x.split(\" \")) # This steps breaks all the lines and creates word from it.\n",
    "word_Map=words.map(lambda x : (x,1)) # This steps adds number to every words and creates a tuple.\n",
    "word_Map_count=word_Map.reduceByKey(lambda x,y :x+y)\n",
    "word_Map_count.take(10)"
   ]
  },
  {
   "cell_type": "code",
   "execution_count": 0,
   "metadata": {
    "application/vnd.databricks.v1+cell": {
     "cellMetadata": {
      "byteLimit": 2048000,
      "rowLimit": 10000
     },
     "inputWidgets": {},
     "nuid": "32d13de4-e5c4-418b-9495-cc000b004d4f",
     "showTitle": false,
     "tableResultSettingsMap": {},
     "title": ""
    }
   },
   "outputs": [],
   "source": [
    "from pyspark.sql.functions import * \n",
    "df=spark.read.text(\"dbfs:/FileStore/1\")\n",
    "words=df.select(split(\"value\",\" \").alias(\"words\"))\n",
    "words_filtered=words.select(explode(\"words\").alias(\"Exploded\"))\n",
    "words_filtered_count=words_filtered.groupBy(\"Exploded\").count()\n",
    "words_filtered_count.write.csv(\"dbfs:/FileStore/2\",mode=\"overwrite\")"
   ]
  },
  {
   "cell_type": "code",
   "execution_count": 0,
   "metadata": {
    "application/vnd.databricks.v1+cell": {
     "cellMetadata": {
      "byteLimit": 2048000,
      "implicitDf": true,
      "rowLimit": 10000
     },
     "inputWidgets": {},
     "nuid": "4f5f407d-4f58-4d8d-8fec-4d9d7a5a299d",
     "showTitle": false,
     "tableResultSettingsMap": {},
     "title": ""
    }
   },
   "outputs": [
    {
     "output_type": "display_data",
     "data": {
      "text/html": [
       "<style scoped>\n",
       "  .table-result-container {\n",
       "    max-height: 300px;\n",
       "    overflow: auto;\n",
       "  }\n",
       "  table, th, td {\n",
       "    border: 1px solid black;\n",
       "    border-collapse: collapse;\n",
       "  }\n",
       "  th, td {\n",
       "    padding: 5px;\n",
       "  }\n",
       "  th {\n",
       "    text-align: left;\n",
       "  }\n",
       "</style><div class='table-result-container'><table class='table-result'><thead style='background-color: white'><tr></tr></thead><tbody></tbody></table></div>"
      ]
     },
     "metadata": {
      "application/vnd.databricks.v1+output": {
       "addedWidgets": {},
       "aggData": [],
       "aggError": "",
       "aggOverflow": false,
       "aggSchema": [],
       "aggSeriesLimitReached": false,
       "aggType": "",
       "arguments": {},
       "columnCustomDisplayInfos": {},
       "data": [],
       "datasetInfos": [],
       "dbfsResultPath": null,
       "isJsonSchema": true,
       "metadata": {
        "dataframeName": null
       },
       "overflow": false,
       "plotOptions": {
        "customPlotOptions": {},
        "displayType": "table",
        "pivotAggregation": null,
        "pivotColumns": null,
        "xColumns": null,
        "yColumns": null
       },
       "removedWidgets": [],
       "schema": [],
       "type": "table"
      }
     },
     "output_type": "display_data"
    }
   ],
   "source": [
    "%sql\n",
    "create  table test_csv (word string,count int)\n",
    "using csv\n",
    "options (delimiter \",\",header \"true\")\n",
    "location \"dbfs:/FileStore/2\""
   ]
  },
  {
   "cell_type": "code",
   "execution_count": 0,
   "metadata": {
    "application/vnd.databricks.v1+cell": {
     "cellMetadata": {
      "byteLimit": 2048000,
      "implicitDf": true,
      "rowLimit": 10000
     },
     "inputWidgets": {},
     "nuid": "071225b7-0ea1-4a9a-965b-519d4437cc10",
     "showTitle": false,
     "tableResultSettingsMap": {},
     "title": ""
    }
   },
   "outputs": [
    {
     "output_type": "display_data",
     "data": {
      "text/html": [
       "<style scoped>\n",
       "  .table-result-container {\n",
       "    max-height: 300px;\n",
       "    overflow: auto;\n",
       "  }\n",
       "  table, th, td {\n",
       "    border: 1px solid black;\n",
       "    border-collapse: collapse;\n",
       "  }\n",
       "  th, td {\n",
       "    padding: 5px;\n",
       "  }\n",
       "  th {\n",
       "    text-align: left;\n",
       "  }\n",
       "</style><div class='table-result-container'><table class='table-result'><thead style='background-color: white'><tr><th>word</th><th>count</th></tr></thead><tbody><tr><td>production</td><td>1</td></tr><tr><td>highly</td><td>1</td></tr><tr><td>fossil-fuel</td><td>1</td></tr><tr><td>(H2O).</td><td>1</td></tr><tr><td>element</td><td>1</td></tr><tr><td>name</td><td>1</td></tr><tr><td>forms,</td><td>1</td></tr><tr><td>neutrons.</td><td>1</td></tr><tr><td>On</td><td>1</td></tr><tr><td>by</td><td>1</td></tr><tr><td>lightest</td><td>1</td></tr><tr><td>consists</td><td>1</td></tr><tr><td>generate</td><td>1</td></tr><tr><td>combustible.</td><td>1</td></tr><tr><td>acids</td><td>1</td></tr><tr><td>can</td><td>1</td></tr><tr><td>was</td><td>1</td></tr><tr><td>producing</td><td>1</td></tr><tr><td>electricity.</td><td>1</td></tr><tr><td>gas</td><td>3</td></tr><tr><td>H2;</td><td>1</td></tr><tr><td>for</td><td>2</td></tr><tr><td>main</td><td>1</td></tr><tr><td>distinct</td><td>1</td></tr><tr><td>substance</td><td>1</td></tr><tr><td>chemical</td><td>1</td></tr><tr><td>Sun</td><td>1</td></tr><tr><td>electron</td><td>1</td></tr><tr><td>one</td><td>2</td></tr><tr><td>in</td><td>6</td></tr><tr><td>burned;</td><td>1</td></tr><tr><td>normal</td><td>1</td></tr><tr><td>with</td><td>4</td></tr><tr><td>state.</td><td>1</td></tr><tr><td>Cavendish,</td><td>1</td></tr><tr><td>symbol</td><td>1</td></tr><tr><td>Greek.</td><td>1</td></tr><tr><td>(1H)</td><td>1</td></tr><tr><td>gaseous</td><td>1</td></tr><tr><td>(Full</td><td>1</td></tr><tr><td>Under</td><td>1</td></tr><tr><td>water</td><td>2</td></tr><tr><td>fuel</td><td>1</td></tr><tr><td>such</td><td>1</td></tr><tr><td>when</td><td>1</td></tr><tr><td>produced</td><td>1</td></tr><tr><td>is</td><td>5</td></tr><tr><td>non-toxic</td><td>1</td></tr><tr><td>atomic</td><td>1</td></tr><tr><td>Hydrogen</td><td>2</td></tr><tr><td>colorless,</td><td>1</td></tr><tr><td>use</td><td>1</td></tr><tr><td>diatomic</td><td>1</td></tr><tr><td>molecular</td><td>1</td></tr><tr><td>fertilizer.</td><td>1</td></tr><tr><td>matter.</td><td>1</td></tr><tr><td>it</td><td>1</td></tr><tr><td>its</td><td>3</td></tr><tr><td>cells</td><td>1</td></tr><tr><td>It</td><td>1</td></tr><tr><td>article...)</td><td>1</td></tr><tr><td>ammonia</td><td>1</td></tr><tr><td>the</td><td>5</td></tr><tr><td>uses</td><td>2</td></tr><tr><td>constituting</td><td>1</td></tr><tr><td>industrial</td><td>1</td></tr><tr><td>reaction</td><td>1</td></tr><tr><td>abundant</td><td>1</td></tr><tr><td>artificially</td><td>1</td></tr><tr><td>plasma</td><td>1</td></tr><tr><td>and</td><td>7</td></tr><tr><td>75%</td><td>1</td></tr><tr><td>property</td><td>1</td></tr><tr><td>oxygen</td><td>1</td></tr><tr><td>1766�1781,</td><td>1</td></tr><tr><td>of</td><td>7</td></tr><tr><td>exist</td><td>1</td></tr><tr><td>molecules</td><td>1</td></tr><tr><td>no</td><td>1</td></tr><tr><td>The</td><td>2</td></tr><tr><td>state</td><td>1</td></tr><tr><td>conditions,</td><td>1</td></tr><tr><td>Emerging</td><td>1</td></tr><tr><td>common</td><td>1</td></tr><tr><td>discovered</td><td>1</td></tr><tr><td>Earth,</td><td>1</td></tr><tr><td>Its</td><td>1</td></tr><tr><td>proton,</td><td>1</td></tr><tr><td>standard</td><td>1</td></tr><tr><td>identified</td><td>1</td></tr><tr><td>all</td><td>1</td></tr><tr><td>odorless,</td><td>1</td></tr><tr><td>a</td><td>4</td></tr><tr><td>most</td><td>2</td></tr><tr><td>as</td><td>2</td></tr><tr><td>formula</td><td>1</td></tr><tr><td>element,</td><td>1</td></tr><tr><td>metals.</td><td>1</td></tr><tr><td>1.</td><td>1</td></tr><tr><td>about</td><td>1</td></tr><tr><td>water-former</td><td>1</td></tr><tr><td>isotope</td><td>1</td></tr><tr><td>number</td><td>1</td></tr><tr><td>first</td><td>1</td></tr><tr><td>processing</td><td>1</td></tr><tr><td>to</td><td>1</td></tr><tr><td>Henry</td><td>1</td></tr><tr><td>mainly</td><td>1</td></tr><tr><td>means</td><td>1</td></tr><tr><td>H</td><td>1</td></tr><tr><td>hydrogen</td><td>6</td></tr></tbody></table></div>"
      ]
     },
     "metadata": {
      "application/vnd.databricks.v1+output": {
       "addedWidgets": {},
       "aggData": [],
       "aggError": "",
       "aggOverflow": false,
       "aggSchema": [],
       "aggSeriesLimitReached": false,
       "aggType": "",
       "arguments": {},
       "columnCustomDisplayInfos": {},
       "data": [
        [
         "production",
         1
        ],
        [
         "highly",
         1
        ],
        [
         "fossil-fuel",
         1
        ],
        [
         "(H2O).",
         1
        ],
        [
         "element",
         1
        ],
        [
         "name",
         1
        ],
        [
         "forms,",
         1
        ],
        [
         "neutrons.",
         1
        ],
        [
         "On",
         1
        ],
        [
         "by",
         1
        ],
        [
         "lightest",
         1
        ],
        [
         "consists",
         1
        ],
        [
         "generate",
         1
        ],
        [
         "combustible.",
         1
        ],
        [
         "acids",
         1
        ],
        [
         "can",
         1
        ],
        [
         "was",
         1
        ],
        [
         "producing",
         1
        ],
        [
         "electricity.",
         1
        ],
        [
         "gas",
         3
        ],
        [
         "H2;",
         1
        ],
        [
         "for",
         2
        ],
        [
         "main",
         1
        ],
        [
         "distinct",
         1
        ],
        [
         "substance",
         1
        ],
        [
         "chemical",
         1
        ],
        [
         "Sun",
         1
        ],
        [
         "electron",
         1
        ],
        [
         "one",
         2
        ],
        [
         "in",
         6
        ],
        [
         "burned;",
         1
        ],
        [
         "normal",
         1
        ],
        [
         "with",
         4
        ],
        [
         "state.",
         1
        ],
        [
         "Cavendish,",
         1
        ],
        [
         "symbol",
         1
        ],
        [
         "Greek.",
         1
        ],
        [
         "(1H)",
         1
        ],
        [
         "gaseous",
         1
        ],
        [
         "(Full",
         1
        ],
        [
         "Under",
         1
        ],
        [
         "water",
         2
        ],
        [
         "fuel",
         1
        ],
        [
         "such",
         1
        ],
        [
         "when",
         1
        ],
        [
         "produced",
         1
        ],
        [
         "is",
         5
        ],
        [
         "non-toxic",
         1
        ],
        [
         "atomic",
         1
        ],
        [
         "Hydrogen",
         2
        ],
        [
         "colorless,",
         1
        ],
        [
         "use",
         1
        ],
        [
         "diatomic",
         1
        ],
        [
         "molecular",
         1
        ],
        [
         "fertilizer.",
         1
        ],
        [
         "matter.",
         1
        ],
        [
         "it",
         1
        ],
        [
         "its",
         3
        ],
        [
         "cells",
         1
        ],
        [
         "It",
         1
        ],
        [
         "article...)",
         1
        ],
        [
         "ammonia",
         1
        ],
        [
         "the",
         5
        ],
        [
         "uses",
         2
        ],
        [
         "constituting",
         1
        ],
        [
         "industrial",
         1
        ],
        [
         "reaction",
         1
        ],
        [
         "abundant",
         1
        ],
        [
         "artificially",
         1
        ],
        [
         "plasma",
         1
        ],
        [
         "and",
         7
        ],
        [
         "75%",
         1
        ],
        [
         "property",
         1
        ],
        [
         "oxygen",
         1
        ],
        [
         "1766�1781,",
         1
        ],
        [
         "of",
         7
        ],
        [
         "exist",
         1
        ],
        [
         "molecules",
         1
        ],
        [
         "no",
         1
        ],
        [
         "The",
         2
        ],
        [
         "state",
         1
        ],
        [
         "conditions,",
         1
        ],
        [
         "Emerging",
         1
        ],
        [
         "common",
         1
        ],
        [
         "discovered",
         1
        ],
        [
         "Earth,",
         1
        ],
        [
         "Its",
         1
        ],
        [
         "proton,",
         1
        ],
        [
         "standard",
         1
        ],
        [
         "identified",
         1
        ],
        [
         "all",
         1
        ],
        [
         "odorless,",
         1
        ],
        [
         "a",
         4
        ],
        [
         "most",
         2
        ],
        [
         "as",
         2
        ],
        [
         "formula",
         1
        ],
        [
         "element,",
         1
        ],
        [
         "metals.",
         1
        ],
        [
         "1.",
         1
        ],
        [
         "about",
         1
        ],
        [
         "water-former",
         1
        ],
        [
         "isotope",
         1
        ],
        [
         "number",
         1
        ],
        [
         "first",
         1
        ],
        [
         "processing",
         1
        ],
        [
         "to",
         1
        ],
        [
         "Henry",
         1
        ],
        [
         "mainly",
         1
        ],
        [
         "means",
         1
        ],
        [
         "H",
         1
        ],
        [
         "hydrogen",
         6
        ]
       ],
       "datasetInfos": [],
       "dbfsResultPath": null,
       "isJsonSchema": true,
       "metadata": {
        "dataframeName": "_sqldf",
        "executionCount": 19
       },
       "overflow": false,
       "plotOptions": {
        "customPlotOptions": {},
        "displayType": "table",
        "pivotAggregation": null,
        "pivotColumns": null,
        "xColumns": null,
        "yColumns": null
       },
       "removedWidgets": [],
       "schema": [
        {
         "metadata": "{}",
         "name": "word",
         "type": "\"string\""
        },
        {
         "metadata": "{}",
         "name": "count",
         "type": "\"integer\""
        }
       ],
       "type": "table"
      }
     },
     "output_type": "display_data"
    }
   ],
   "source": [
    "%sql \n",
    "select * from test_csv "
   ]
  },
  {
   "cell_type": "code",
   "execution_count": 0,
   "metadata": {
    "application/vnd.databricks.v1+cell": {
     "cellMetadata": {},
     "inputWidgets": {},
     "nuid": "a44a59e4-a53d-4509-a1f1-cd91e21be0ac",
     "showTitle": false,
     "tableResultSettingsMap": {},
     "title": ""
    }
   },
   "outputs": [],
   "source": []
  }
 ],
 "metadata": {
  "application/vnd.databricks.v1+notebook": {
   "computePreferences": null,
   "dashboards": [],
   "environmentMetadata": {
    "base_environment": "",
    "environment_version": "1"
   },
   "inputWidgetPreferences": null,
   "language": "python",
   "notebookMetadata": {
    "mostRecentlyExecutedCommandWithImplicitDF": {
     "commandId": 1631743056219165,
     "dataframes": [
      "_sqldf"
     ]
    },
    "pythonIndentUnit": 2
   },
   "notebookName": "Essential PySpark For Scalable Data Analytics",
   "widgets": {}
  }
 },
 "nbformat": 4,
 "nbformat_minor": 0
}