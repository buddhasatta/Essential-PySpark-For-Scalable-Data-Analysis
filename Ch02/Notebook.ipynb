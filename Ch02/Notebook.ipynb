{
 "cells": [
  {
   "cell_type": "markdown",
   "id": "37327afb",
   "metadata": {},
   "source": [
    "Spark Code to create one rdd and then get the count of every word inside the rdd."
   ]
  },
  {
   "cell_type": "code",
   "execution_count": null,
   "id": "998da679",
   "metadata": {
    "vscode": {
     "languageId": "plaintext"
    }
   },
   "outputs": [],
   "source": [
    "from pyspark.sql import SparkSession \n",
    "spark=SparkSession.builder.appName(\"Buddha\").getOrCreate()\n",
    "rdd1=spark.sparkContext.textFile(\"/content/1\")\n",
    "words=rdd1.flatMap(lambda x : x.split(\" \")) # This steps breaks all the lines and creates word from it.\n",
    "word_Map=words.map(lambda x : (x,1)) # This steps adds number to every words and creates a tuple.\n"
   ]
  },
  {
   "cell_type": "markdown",
   "id": "dca42f8d",
   "metadata": {},
   "source": [
    "The Following Code takes the above code and then reduces by the keys and gives total count of each word and diplays 10 result\n"
   ]
  },
  {
   "cell_type": "code",
   "execution_count": null,
   "id": "4c1e94a3",
   "metadata": {
    "vscode": {
     "languageId": "plaintext"
    }
   },
   "outputs": [],
   "source": [
    "from pyspark.sql import SparkSession \n",
    "spark=SparkSession.builder.appName(\"Buddha\").getOrCreate()\n",
    "rdd1=spark.sparkContext.textFile(\"/content/1\")\n",
    "words=rdd1.flatMap(lambda x : x.split(\" \")) # This steps breaks all the lines and creates word from it.\n",
    "word_Map=words.map(lambda x : (x,1)) # This steps adds number to every words and creates a tuple.\n",
    "word_Map_count=word_Map.reduceByKey(lambda x,y :x+y)\n",
    "word_Map_count.take(10)"
   ]
  }
 ],
 "metadata": {
  "language_info": {
   "name": "python"
  }
 },
 "nbformat": 4,
 "nbformat_minor": 5
}
